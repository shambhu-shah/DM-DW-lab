{
  "nbformat": 4,
  "nbformat_minor": 0,
  "metadata": {
    "colab": {
      "name": "18cse195.Assignment6.ipynb",
      "provenance": [],
      "authorship_tag": "ABX9TyOIekoL808YBVvb/GkPjIj8",
      "include_colab_link": true
    },
    "kernelspec": {
      "name": "python3",
      "display_name": "Python 3"
    }
  },
  "cells": [
    {
      "cell_type": "markdown",
      "metadata": {
        "id": "view-in-github",
        "colab_type": "text"
      },
      "source": [
        "<a href=\"https://colab.research.google.com/github/shambhu-shah/DM-DW-lab/blob/main/18cse195_Assignment6.ipynb\" target=\"_parent\"><img src=\"https://colab.research.google.com/assets/colab-badge.svg\" alt=\"Open In Colab\"/></a>"
      ]
    },
    {
      "cell_type": "code",
      "metadata": {
        "id": "uz6rzxg2HJ_f"
      },
      "source": [
        "\n",
        "#Assignment- 6\n",
        "\n",
        "#Write a python code to evaluate the covariance and correlation of by using any two columns.\n",
        "#Write a python code to implement chi square test.\n",
        "#Write a python code to implement different types of normalization."
      ],
      "execution_count": 7,
      "outputs": []
    },
    {
      "cell_type": "code",
      "metadata": {
        "id": "q38ybUlNMTN8"
      },
      "source": [
        "import pandas as pd\n",
        "import numpy as np\n",
        "import matplotlib.pyplot as plt\n",
        "import seaborn as sns"
      ],
      "execution_count": 19,
      "outputs": []
    },
    {
      "cell_type": "code",
      "metadata": {
        "colab": {
          "base_uri": "https://localhost:8080/",
          "height": 215
        },
        "id": "H2k9y6Gsg2GU",
        "outputId": "0983ed80-4cf8-4d1f-e475-1a5c79d08a7b"
      },
      "source": [
        "\n",
        "url = \"https://raw.githubusercontent.com/Anasuya-Sahoo/DMDW-Lab/main/student-mat.csv\"\n",
        "data = pd.read_csv(url)\n",
        "data.head()"
      ],
      "execution_count": 20,
      "outputs": [
        {
          "output_type": "execute_result",
          "data": {
            "text/html": [
              "<div>\n",
              "<style scoped>\n",
              "    .dataframe tbody tr th:only-of-type {\n",
              "        vertical-align: middle;\n",
              "    }\n",
              "\n",
              "    .dataframe tbody tr th {\n",
              "        vertical-align: top;\n",
              "    }\n",
              "\n",
              "    .dataframe thead th {\n",
              "        text-align: right;\n",
              "    }\n",
              "</style>\n",
              "<table border=\"1\" class=\"dataframe\">\n",
              "  <thead>\n",
              "    <tr style=\"text-align: right;\">\n",
              "      <th></th>\n",
              "      <th>school</th>\n",
              "      <th>sex</th>\n",
              "      <th>age</th>\n",
              "      <th>address</th>\n",
              "      <th>famsize</th>\n",
              "      <th>Pstatus</th>\n",
              "      <th>Medu</th>\n",
              "      <th>Fedu</th>\n",
              "      <th>Mjob</th>\n",
              "      <th>Fjob</th>\n",
              "      <th>reason</th>\n",
              "      <th>guardian</th>\n",
              "      <th>traveltime</th>\n",
              "      <th>studytime</th>\n",
              "      <th>failures</th>\n",
              "      <th>schoolsup</th>\n",
              "      <th>famsup</th>\n",
              "      <th>paid</th>\n",
              "      <th>activities</th>\n",
              "      <th>nursery</th>\n",
              "      <th>higher</th>\n",
              "      <th>internet</th>\n",
              "      <th>romantic</th>\n",
              "      <th>famrel</th>\n",
              "      <th>freetime</th>\n",
              "      <th>goout</th>\n",
              "      <th>Dalc</th>\n",
              "      <th>Walc</th>\n",
              "      <th>health</th>\n",
              "      <th>absences</th>\n",
              "      <th>G1</th>\n",
              "      <th>G2</th>\n",
              "      <th>G3</th>\n",
              "    </tr>\n",
              "  </thead>\n",
              "  <tbody>\n",
              "    <tr>\n",
              "      <th>0</th>\n",
              "      <td>GP</td>\n",
              "      <td>F</td>\n",
              "      <td>18</td>\n",
              "      <td>U</td>\n",
              "      <td>GT3</td>\n",
              "      <td>A</td>\n",
              "      <td>4</td>\n",
              "      <td>4</td>\n",
              "      <td>at_home</td>\n",
              "      <td>teacher</td>\n",
              "      <td>course</td>\n",
              "      <td>mother</td>\n",
              "      <td>2</td>\n",
              "      <td>2</td>\n",
              "      <td>0</td>\n",
              "      <td>yes</td>\n",
              "      <td>no</td>\n",
              "      <td>no</td>\n",
              "      <td>no</td>\n",
              "      <td>yes</td>\n",
              "      <td>yes</td>\n",
              "      <td>no</td>\n",
              "      <td>no</td>\n",
              "      <td>4</td>\n",
              "      <td>3</td>\n",
              "      <td>4</td>\n",
              "      <td>1</td>\n",
              "      <td>1</td>\n",
              "      <td>3</td>\n",
              "      <td>6</td>\n",
              "      <td>5</td>\n",
              "      <td>6</td>\n",
              "      <td>6</td>\n",
              "    </tr>\n",
              "    <tr>\n",
              "      <th>1</th>\n",
              "      <td>GP</td>\n",
              "      <td>F</td>\n",
              "      <td>17</td>\n",
              "      <td>U</td>\n",
              "      <td>GT3</td>\n",
              "      <td>T</td>\n",
              "      <td>1</td>\n",
              "      <td>1</td>\n",
              "      <td>at_home</td>\n",
              "      <td>other</td>\n",
              "      <td>course</td>\n",
              "      <td>father</td>\n",
              "      <td>1</td>\n",
              "      <td>2</td>\n",
              "      <td>0</td>\n",
              "      <td>no</td>\n",
              "      <td>yes</td>\n",
              "      <td>no</td>\n",
              "      <td>no</td>\n",
              "      <td>no</td>\n",
              "      <td>yes</td>\n",
              "      <td>yes</td>\n",
              "      <td>no</td>\n",
              "      <td>5</td>\n",
              "      <td>3</td>\n",
              "      <td>3</td>\n",
              "      <td>1</td>\n",
              "      <td>1</td>\n",
              "      <td>3</td>\n",
              "      <td>4</td>\n",
              "      <td>5</td>\n",
              "      <td>5</td>\n",
              "      <td>6</td>\n",
              "    </tr>\n",
              "    <tr>\n",
              "      <th>2</th>\n",
              "      <td>GP</td>\n",
              "      <td>F</td>\n",
              "      <td>15</td>\n",
              "      <td>U</td>\n",
              "      <td>LE3</td>\n",
              "      <td>T</td>\n",
              "      <td>1</td>\n",
              "      <td>1</td>\n",
              "      <td>at_home</td>\n",
              "      <td>other</td>\n",
              "      <td>other</td>\n",
              "      <td>mother</td>\n",
              "      <td>1</td>\n",
              "      <td>2</td>\n",
              "      <td>3</td>\n",
              "      <td>yes</td>\n",
              "      <td>no</td>\n",
              "      <td>yes</td>\n",
              "      <td>no</td>\n",
              "      <td>yes</td>\n",
              "      <td>yes</td>\n",
              "      <td>yes</td>\n",
              "      <td>no</td>\n",
              "      <td>4</td>\n",
              "      <td>3</td>\n",
              "      <td>2</td>\n",
              "      <td>2</td>\n",
              "      <td>3</td>\n",
              "      <td>3</td>\n",
              "      <td>10</td>\n",
              "      <td>7</td>\n",
              "      <td>8</td>\n",
              "      <td>10</td>\n",
              "    </tr>\n",
              "    <tr>\n",
              "      <th>3</th>\n",
              "      <td>GP</td>\n",
              "      <td>F</td>\n",
              "      <td>15</td>\n",
              "      <td>U</td>\n",
              "      <td>GT3</td>\n",
              "      <td>T</td>\n",
              "      <td>4</td>\n",
              "      <td>2</td>\n",
              "      <td>health</td>\n",
              "      <td>services</td>\n",
              "      <td>home</td>\n",
              "      <td>mother</td>\n",
              "      <td>1</td>\n",
              "      <td>3</td>\n",
              "      <td>0</td>\n",
              "      <td>no</td>\n",
              "      <td>yes</td>\n",
              "      <td>yes</td>\n",
              "      <td>yes</td>\n",
              "      <td>yes</td>\n",
              "      <td>yes</td>\n",
              "      <td>yes</td>\n",
              "      <td>yes</td>\n",
              "      <td>3</td>\n",
              "      <td>2</td>\n",
              "      <td>2</td>\n",
              "      <td>1</td>\n",
              "      <td>1</td>\n",
              "      <td>5</td>\n",
              "      <td>2</td>\n",
              "      <td>15</td>\n",
              "      <td>14</td>\n",
              "      <td>15</td>\n",
              "    </tr>\n",
              "    <tr>\n",
              "      <th>4</th>\n",
              "      <td>GP</td>\n",
              "      <td>F</td>\n",
              "      <td>16</td>\n",
              "      <td>U</td>\n",
              "      <td>GT3</td>\n",
              "      <td>T</td>\n",
              "      <td>3</td>\n",
              "      <td>3</td>\n",
              "      <td>other</td>\n",
              "      <td>other</td>\n",
              "      <td>home</td>\n",
              "      <td>father</td>\n",
              "      <td>1</td>\n",
              "      <td>2</td>\n",
              "      <td>0</td>\n",
              "      <td>no</td>\n",
              "      <td>yes</td>\n",
              "      <td>yes</td>\n",
              "      <td>no</td>\n",
              "      <td>yes</td>\n",
              "      <td>yes</td>\n",
              "      <td>no</td>\n",
              "      <td>no</td>\n",
              "      <td>4</td>\n",
              "      <td>3</td>\n",
              "      <td>2</td>\n",
              "      <td>1</td>\n",
              "      <td>2</td>\n",
              "      <td>5</td>\n",
              "      <td>4</td>\n",
              "      <td>6</td>\n",
              "      <td>10</td>\n",
              "      <td>10</td>\n",
              "    </tr>\n",
              "  </tbody>\n",
              "</table>\n",
              "</div>"
            ],
            "text/plain": [
              "  school sex  age address famsize Pstatus  ...  Walc  health absences  G1  G2  G3\n",
              "0     GP   F   18       U     GT3       A  ...     1       3        6   5   6   6\n",
              "1     GP   F   17       U     GT3       T  ...     1       3        4   5   5   6\n",
              "2     GP   F   15       U     LE3       T  ...     3       3       10   7   8  10\n",
              "3     GP   F   15       U     GT3       T  ...     1       5        2  15  14  15\n",
              "4     GP   F   16       U     GT3       T  ...     2       5        4   6  10  10\n",
              "\n",
              "[5 rows x 33 columns]"
            ]
          },
          "metadata": {
            "tags": []
          },
          "execution_count": 20
        }
      ]
    },
    {
      "cell_type": "code",
      "metadata": {
        "colab": {
          "base_uri": "https://localhost:8080/",
          "height": 195
        },
        "id": "NLG2CKZJScvn",
        "outputId": "42dfaab5-fe0c-4241-8513-18aae0e83bd8"
      },
      "source": [
        "#Evaluate the covariance and correlation of by using any two columns\n",
        "\n",
        "df = data[['traveltime','studytime']]\n",
        "df.head()"
      ],
      "execution_count": 21,
      "outputs": [
        {
          "output_type": "execute_result",
          "data": {
            "text/html": [
              "<div>\n",
              "<style scoped>\n",
              "    .dataframe tbody tr th:only-of-type {\n",
              "        vertical-align: middle;\n",
              "    }\n",
              "\n",
              "    .dataframe tbody tr th {\n",
              "        vertical-align: top;\n",
              "    }\n",
              "\n",
              "    .dataframe thead th {\n",
              "        text-align: right;\n",
              "    }\n",
              "</style>\n",
              "<table border=\"1\" class=\"dataframe\">\n",
              "  <thead>\n",
              "    <tr style=\"text-align: right;\">\n",
              "      <th></th>\n",
              "      <th>traveltime</th>\n",
              "      <th>studytime</th>\n",
              "    </tr>\n",
              "  </thead>\n",
              "  <tbody>\n",
              "    <tr>\n",
              "      <th>0</th>\n",
              "      <td>2</td>\n",
              "      <td>2</td>\n",
              "    </tr>\n",
              "    <tr>\n",
              "      <th>1</th>\n",
              "      <td>1</td>\n",
              "      <td>2</td>\n",
              "    </tr>\n",
              "    <tr>\n",
              "      <th>2</th>\n",
              "      <td>1</td>\n",
              "      <td>2</td>\n",
              "    </tr>\n",
              "    <tr>\n",
              "      <th>3</th>\n",
              "      <td>1</td>\n",
              "      <td>3</td>\n",
              "    </tr>\n",
              "    <tr>\n",
              "      <th>4</th>\n",
              "      <td>1</td>\n",
              "      <td>2</td>\n",
              "    </tr>\n",
              "  </tbody>\n",
              "</table>\n",
              "</div>"
            ],
            "text/plain": [
              "   traveltime  studytime\n",
              "0           2          2\n",
              "1           1          2\n",
              "2           1          2\n",
              "3           1          3\n",
              "4           1          2"
            ]
          },
          "metadata": {
            "tags": []
          },
          "execution_count": 21
        }
      ]
    },
    {
      "cell_type": "code",
      "metadata": {
        "colab": {
          "base_uri": "https://localhost:8080/",
          "height": 106
        },
        "id": "6t_AaTr6M297",
        "outputId": "61f635ee-dcf9-4d3f-dd58-67491196de8c"
      },
      "source": [
        "\n",
        "covariance = df.cov()\n",
        "covariance"
      ],
      "execution_count": 22,
      "outputs": [
        {
          "output_type": "execute_result",
          "data": {
            "text/html": [
              "<div>\n",
              "<style scoped>\n",
              "    .dataframe tbody tr th:only-of-type {\n",
              "        vertical-align: middle;\n",
              "    }\n",
              "\n",
              "    .dataframe tbody tr th {\n",
              "        vertical-align: top;\n",
              "    }\n",
              "\n",
              "    .dataframe thead th {\n",
              "        text-align: right;\n",
              "    }\n",
              "</style>\n",
              "<table border=\"1\" class=\"dataframe\">\n",
              "  <thead>\n",
              "    <tr style=\"text-align: right;\">\n",
              "      <th></th>\n",
              "      <th>traveltime</th>\n",
              "      <th>studytime</th>\n",
              "    </tr>\n",
              "  </thead>\n",
              "  <tbody>\n",
              "    <tr>\n",
              "      <th>traveltime</th>\n",
              "      <td>0.486513</td>\n",
              "      <td>-0.059070</td>\n",
              "    </tr>\n",
              "    <tr>\n",
              "      <th>studytime</th>\n",
              "      <td>-0.059070</td>\n",
              "      <td>0.704324</td>\n",
              "    </tr>\n",
              "  </tbody>\n",
              "</table>\n",
              "</div>"
            ],
            "text/plain": [
              "            traveltime  studytime\n",
              "traveltime    0.486513  -0.059070\n",
              "studytime    -0.059070   0.704324"
            ]
          },
          "metadata": {
            "tags": []
          },
          "execution_count": 22
        }
      ]
    },
    {
      "cell_type": "code",
      "metadata": {
        "colab": {
          "base_uri": "https://localhost:8080/",
          "height": 106
        },
        "id": "u0bMLD4AN-VS",
        "outputId": "abfb874e-13aa-4ae6-ab80-fd47153247ef"
      },
      "source": [
        "\n",
        "covariance = df.cov()\n",
        "covariance"
      ],
      "execution_count": 23,
      "outputs": [
        {
          "output_type": "execute_result",
          "data": {
            "text/html": [
              "<div>\n",
              "<style scoped>\n",
              "    .dataframe tbody tr th:only-of-type {\n",
              "        vertical-align: middle;\n",
              "    }\n",
              "\n",
              "    .dataframe tbody tr th {\n",
              "        vertical-align: top;\n",
              "    }\n",
              "\n",
              "    .dataframe thead th {\n",
              "        text-align: right;\n",
              "    }\n",
              "</style>\n",
              "<table border=\"1\" class=\"dataframe\">\n",
              "  <thead>\n",
              "    <tr style=\"text-align: right;\">\n",
              "      <th></th>\n",
              "      <th>traveltime</th>\n",
              "      <th>studytime</th>\n",
              "    </tr>\n",
              "  </thead>\n",
              "  <tbody>\n",
              "    <tr>\n",
              "      <th>traveltime</th>\n",
              "      <td>0.486513</td>\n",
              "      <td>-0.059070</td>\n",
              "    </tr>\n",
              "    <tr>\n",
              "      <th>studytime</th>\n",
              "      <td>-0.059070</td>\n",
              "      <td>0.704324</td>\n",
              "    </tr>\n",
              "  </tbody>\n",
              "</table>\n",
              "</div>"
            ],
            "text/plain": [
              "            traveltime  studytime\n",
              "traveltime    0.486513  -0.059070\n",
              "studytime    -0.059070   0.704324"
            ]
          },
          "metadata": {
            "tags": []
          },
          "execution_count": 23
        }
      ]
    },
    {
      "cell_type": "code",
      "metadata": {
        "colab": {
          "base_uri": "https://localhost:8080/",
          "height": 265
        },
        "id": "QAvHv33gOURx",
        "outputId": "24fb3877-26ca-44f3-ecc0-e2b951ca7b16"
      },
      "source": [
        "\n",
        "sns.heatmap(covariance,cmap ='YlGnBu')\n",
        "plt.show()"
      ],
      "execution_count": 24,
      "outputs": [
        {
          "output_type": "display_data",
          "data": {
            "image/png": "[encoded data removed]",
            "text/plain": [
              "<Figure size 432x288 with 2 Axes>"
            ]
          },
          "metadata": {
            "tags": []
          }
        }
      ]
    },
    {
      "cell_type": "code",
      "metadata": {
        "colab": {
          "base_uri": "https://localhost:8080/",
          "height": 106
        },
        "id": "jancDHsZPcSB",
        "outputId": "2de9cdd2-9789-4c72-8639-6ba0735e82f0"
      },
      "source": [
        "\n",
        "\n",
        "correlation = df.corr()\n",
        "correlation"
      ],
      "execution_count": 25,
      "outputs": [
        {
          "output_type": "execute_result",
          "data": {
            "text/html": [
              "<div>\n",
              "<style scoped>\n",
              "    .dataframe tbody tr th:only-of-type {\n",
              "        vertical-align: middle;\n",
              "    }\n",
              "\n",
              "    .dataframe tbody tr th {\n",
              "        vertical-align: top;\n",
              "    }\n",
              "\n",
              "    .dataframe thead th {\n",
              "        text-align: right;\n",
              "    }\n",
              "</style>\n",
              "<table border=\"1\" class=\"dataframe\">\n",
              "  <thead>\n",
              "    <tr style=\"text-align: right;\">\n",
              "      <th></th>\n",
              "      <th>traveltime</th>\n",
              "      <th>studytime</th>\n",
              "    </tr>\n",
              "  </thead>\n",
              "  <tbody>\n",
              "    <tr>\n",
              "      <th>traveltime</th>\n",
              "      <td>1.000000</td>\n",
              "      <td>-0.100909</td>\n",
              "    </tr>\n",
              "    <tr>\n",
              "      <th>studytime</th>\n",
              "      <td>-0.100909</td>\n",
              "      <td>1.000000</td>\n",
              "    </tr>\n",
              "  </tbody>\n",
              "</table>\n",
              "</div>"
            ],
            "text/plain": [
              "            traveltime  studytime\n",
              "traveltime    1.000000  -0.100909\n",
              "studytime    -0.100909   1.000000"
            ]
          },
          "metadata": {
            "tags": []
          },
          "execution_count": 25
        }
      ]
    },
    {
      "cell_type": "code",
      "metadata": {
        "colab": {
          "base_uri": "https://localhost:8080/",
          "height": 266
        },
        "id": "GDqpspVfP8-A",
        "outputId": "2179b6b4-a765-4297-8d2e-f63f3776039f"
      },
      "source": [
        "\n",
        "sns.heatmap(correlation,cmap='BuGn_r')\n",
        "plt.show()\n"
      ],
      "execution_count": 26,
      "outputs": [
        {
          "output_type": "display_data",
          "data": {
            "image/png": "[encoded data removed]",
            "text/plain": [
              "<Figure size 432x288 with 2 Axes>"
            ]
          },
          "metadata": {
            "tags": []
          }
        }
      ]
    },
    {
      "cell_type": "code",
      "metadata": {
        "colab": {
          "base_uri": "https://localhost:8080/",
          "height": 195
        },
        "id": "UeCBegDmQVMf",
        "outputId": "5343732e-c44e-4cab-beb5-03b32cfe86ea"
      },
      "source": [
        "dfnom = data[['Mjob','Fjob']]\n",
        "dfnom.head()"
      ],
      "execution_count": 27,
      "outputs": [
        {
          "output_type": "execute_result",
          "data": {
            "text/html": [
              "<div>\n",
              "<style scoped>\n",
              "    .dataframe tbody tr th:only-of-type {\n",
              "        vertical-align: middle;\n",
              "    }\n",
              "\n",
              "    .dataframe tbody tr th {\n",
              "        vertical-align: top;\n",
              "    }\n",
              "\n",
              "    .dataframe thead th {\n",
              "        text-align: right;\n",
              "    }\n",
              "</style>\n",
              "<table border=\"1\" class=\"dataframe\">\n",
              "  <thead>\n",
              "    <tr style=\"text-align: right;\">\n",
              "      <th></th>\n",
              "      <th>Mjob</th>\n",
              "      <th>Fjob</th>\n",
              "    </tr>\n",
              "  </thead>\n",
              "  <tbody>\n",
              "    <tr>\n",
              "      <th>0</th>\n",
              "      <td>at_home</td>\n",
              "      <td>teacher</td>\n",
              "    </tr>\n",
              "    <tr>\n",
              "      <th>1</th>\n",
              "      <td>at_home</td>\n",
              "      <td>other</td>\n",
              "    </tr>\n",
              "    <tr>\n",
              "      <th>2</th>\n",
              "      <td>at_home</td>\n",
              "      <td>other</td>\n",
              "    </tr>\n",
              "    <tr>\n",
              "      <th>3</th>\n",
              "      <td>health</td>\n",
              "      <td>services</td>\n",
              "    </tr>\n",
              "    <tr>\n",
              "      <th>4</th>\n",
              "      <td>other</td>\n",
              "      <td>other</td>\n",
              "    </tr>\n",
              "  </tbody>\n",
              "</table>\n",
              "</div>"
            ],
            "text/plain": [
              "      Mjob      Fjob\n",
              "0  at_home   teacher\n",
              "1  at_home     other\n",
              "2  at_home     other\n",
              "3   health  services\n",
              "4    other     other"
            ]
          },
          "metadata": {
            "tags": []
          },
          "execution_count": 27
        }
      ]
    },
    {
      "cell_type": "code",
      "metadata": {
        "id": "vbbSyTjCSnrv",
        "colab": {
          "base_uri": "https://localhost:8080/"
        },
        "outputId": "43f7830a-8017-4534-be13-b8a089893bdc"
      },
      "source": [
        "dfnom = dfnom.replace('at_home','home')\n",
        "dfnom.astype('category')\n",
        "dfnom.info()"
      ],
      "execution_count": 28,
      "outputs": [
        {
          "output_type": "stream",
          "text": [
            "<class 'pandas.core.frame.DataFrame'>\n",
            "RangeIndex: 395 entries, 0 to 394\n",
            "Data columns (total 2 columns):\n",
            " #   Column  Non-Null Count  Dtype \n",
            "---  ------  --------------  ----- \n",
            " 0   Mjob    395 non-null    object\n",
            " 1   Fjob    395 non-null    object\n",
            "dtypes: object(2)\n",
            "memory usage: 6.3+ KB\n"
          ],
          "name": "stdout"
        }
      ]
    },
    {
      "cell_type": "code",
      "metadata": {
        "id": "2a41nlRIfY31"
      },
      "source": [
        "\n",
        "from sklearn.preprocessing import LabelEncoder\n",
        "lb = LabelEncoder()"
      ],
      "execution_count": 29,
      "outputs": []
    },
    {
      "cell_type": "code",
      "metadata": {
        "id": "dDtR8cBmfdws"
      },
      "source": [
        "\n",
        "dfnom['Mjob'] = lb.fit_transform(dfnom['Mjob'])\n",
        "dfnom['Fjob'] = lb.fit_transform(dfnom['Fjob'])\n",
        "dfnom = np.array(dfnom)"
      ],
      "execution_count": 30,
      "outputs": []
    },
    {
      "cell_type": "code",
      "metadata": {
        "id": "dksPf1Rbi9CC"
      },
      "source": [
        "dfnom=dfnom[dfnom!=0]"
      ],
      "execution_count": 31,
      "outputs": []
    },
    {
      "cell_type": "code",
      "metadata": {
        "id": "8VLiANVojALg"
      },
      "source": [
        "from scipy.stats import chi2_contingency\n",
        "stat, p, dof, expected = chi2_contingency(dfnom)"
      ],
      "execution_count": 33,
      "outputs": []
    },
    {
      "cell_type": "code",
      "metadata": {
        "colab": {
          "base_uri": "https://localhost:8080/"
        },
        "id": "cCrxTFb2jE7C",
        "outputId": "339141c6-f275-4342-d663-c9c761062da6"
      },
      "source": [
        "\n",
        "stat"
      ],
      "execution_count": 34,
      "outputs": [
        {
          "output_type": "execute_result",
          "data": {
            "text/plain": [
              "0.0"
            ]
          },
          "metadata": {
            "tags": []
          },
          "execution_count": 34
        }
      ]
    },
    {
      "cell_type": "code",
      "metadata": {
        "colab": {
          "base_uri": "https://localhost:8080/"
        },
        "id": "xldljtpUjH3i",
        "outputId": "eb8373f3-390d-41e3-c6c1-dffbd19eb709"
      },
      "source": [
        "p"
      ],
      "execution_count": 35,
      "outputs": [
        {
          "output_type": "execute_result",
          "data": {
            "text/plain": [
              "1.0"
            ]
          },
          "metadata": {
            "tags": []
          },
          "execution_count": 35
        }
      ]
    },
    {
      "cell_type": "code",
      "metadata": {
        "colab": {
          "base_uri": "https://localhost:8080/"
        },
        "id": "_bGJAWm6jMYZ",
        "outputId": "0d9a6a91-c819-490d-989f-3269c8ca4b0b"
      },
      "source": [
        "dof"
      ],
      "execution_count": 36,
      "outputs": [
        {
          "output_type": "execute_result",
          "data": {
            "text/plain": [
              "0"
            ]
          },
          "metadata": {
            "tags": []
          },
          "execution_count": 36
        }
      ]
    },
    {
      "cell_type": "code",
      "metadata": {
        "colab": {
          "base_uri": "https://localhost:8080/"
        },
        "id": "vVuMKeJhjOUx",
        "outputId": "6be11cd3-233c-47b4-fa17-96c43ef1d77a"
      },
      "source": [
        "expected"
      ],
      "execution_count": 37,
      "outputs": [
        {
          "output_type": "execute_result",
          "data": {
            "text/plain": [
              "array([1., 4., 1., 2., 1., 2., 3., 2., 2., 3., 2., 2., 2., 2., 4., 3., 2.,\n",
              "       2., 2., 4., 3., 2., 3., 4., 2., 2., 2., 2., 3., 3., 2., 2., 3., 3.,\n",
              "       2., 4., 2., 4., 2., 2., 2., 3., 3., 3., 2., 2., 3., 3., 2., 4., 4.,\n",
              "       3., 3., 3., 4., 1., 2., 2., 2., 2., 2., 2., 4., 3., 2., 4., 3., 1.,\n",
              "       2., 2., 2., 4., 2., 3., 4., 3., 3., 2., 1., 2., 2., 2., 3., 3., 4.,\n",
              "       2., 3., 4., 3., 3., 2., 3., 3., 2., 2., 2., 2., 3., 3., 4., 2., 1.,\n",
              "       3., 2., 4., 3., 3., 2., 3., 4., 3., 3., 4., 3., 2., 3., 3., 2., 3.,\n",
              "       2., 2., 2., 2., 2., 2., 2., 2., 2., 2., 2., 3., 4., 2., 4., 2., 2.,\n",
              "       2., 2., 2., 1., 2., 2., 3., 2., 2., 3., 2., 3., 3., 2., 2., 3., 3.,\n",
              "       1., 2., 2., 2., 3., 2., 4., 2., 2., 3., 2., 2., 2., 4., 3., 3., 1.,\n",
              "       2., 3., 2., 2., 2., 2., 2., 2., 1., 3., 3., 3., 4., 3., 2., 3., 2.,\n",
              "       3., 2., 2., 2., 2., 3., 2., 2., 2., 4., 4., 3., 2., 1., 2., 4., 2.,\n",
              "       3., 4., 4., 2., 4., 2., 3., 2., 2., 2., 2., 1., 3., 3., 3., 2., 2.,\n",
              "       2., 2., 3., 3., 2., 2., 1., 2., 3., 2., 4., 4., 3., 4., 1., 2., 2.,\n",
              "       2., 3., 2., 1., 4., 3., 1., 1., 2., 2., 2., 3., 2., 4., 4., 4., 3.,\n",
              "       3., 3., 4., 3., 1., 1., 2., 2., 2., 3., 3., 1., 2., 4., 4., 3., 2.,\n",
              "       2., 2., 1., 2., 3., 3., 3., 1., 2., 4., 1., 3., 2., 2., 1., 2., 1.,\n",
              "       2., 2., 3., 1., 2., 2., 2., 2., 2., 1., 3., 2., 3., 3., 3., 2., 2.,\n",
              "       3., 2., 2., 2., 2., 2., 2., 4., 2., 1., 3., 2., 2., 4., 2., 3., 2.,\n",
              "       2., 2., 4., 3., 2., 2., 4., 2., 3., 2., 3., 3., 2., 2., 2., 2., 3.,\n",
              "       3., 3., 3., 2., 2., 2., 1., 2., 3., 3., 1., 3., 1., 3., 3., 3., 2.,\n",
              "       2., 3., 3., 3., 4., 4., 2., 3., 4., 4., 4., 2., 2., 2., 2., 2., 2.,\n",
              "       2., 3., 3., 1., 3., 3., 2., 4., 2., 1., 2., 4., 2., 2., 2., 3., 2.,\n",
              "       2., 2., 3., 2., 3., 2., 2., 2., 2., 2., 3., 1., 2., 1., 1., 1., 3.,\n",
              "       1., 2., 3., 4., 2., 2., 4., 3., 2., 2., 2., 2., 3., 3., 1., 2., 2.,\n",
              "       2., 2., 2., 2., 4., 4., 2., 2., 2., 1., 2., 2., 2., 2., 2., 1., 3.,\n",
              "       2., 3., 2., 4., 2., 4., 2., 3., 3., 2., 2., 2., 2., 2., 2., 3., 3.,\n",
              "       2., 3., 2., 2., 3., 2., 1., 2., 3., 3., 2., 2., 2., 2., 2., 4., 3.,\n",
              "       3., 1., 2., 2., 3., 3., 3., 2., 4., 2., 2., 2., 2., 2., 1., 3., 2.,\n",
              "       2., 3., 2., 4., 2., 2., 2., 2., 2., 3., 2., 3., 2., 2., 1., 1., 1.,\n",
              "       3., 2., 2., 3., 4., 3., 4., 3., 3., 2., 4., 3., 1., 2., 2., 2., 2.,\n",
              "       2., 2., 2., 1., 1., 3., 4., 3., 3., 4., 4., 4., 2., 3., 3., 1., 3.,\n",
              "       2., 3., 2., 2., 2., 2., 2., 2., 2., 4., 4., 2., 2., 4., 2., 2., 2.,\n",
              "       2., 3., 1., 3., 2., 4., 3., 2., 3., 1., 2., 3., 3., 1., 2., 2., 3.,\n",
              "       3., 2., 1., 2., 2., 3., 2., 2., 2., 1., 3., 4., 2., 3., 3., 2., 2.,\n",
              "       3., 3., 3., 3., 1., 1., 2., 2., 2., 3., 3., 2., 4., 3., 4., 4., 2.,\n",
              "       2., 1., 2., 3., 3., 2., 2., 1., 2., 3., 2., 3., 1., 2., 2., 3., 3.,\n",
              "       2., 2., 3., 3., 4., 3., 3., 2., 1., 1., 1., 2., 2., 3., 4., 3., 4.,\n",
              "       2., 2., 2., 2., 2., 3., 2., 1., 3., 2., 2., 3., 2., 3., 3., 4., 3.,\n",
              "       3., 2., 2., 3., 1., 3., 1., 2., 1., 2., 3., 3., 1., 1., 2., 3., 1.,\n",
              "       2., 4., 3., 2., 3., 1., 3., 2., 4., 3., 3., 1., 3., 2., 1., 2., 2.,\n",
              "       2., 2., 2., 2., 2., 4., 3., 2., 2., 1., 2., 4., 4., 2., 2., 2., 3.,\n",
              "       2., 3., 2., 2., 1., 2., 4., 1., 3., 2., 4., 3., 2., 2., 3., 3., 3.,\n",
              "       3., 2., 2., 3., 2., 2., 1.])"
            ]
          },
          "metadata": {
            "tags": []
          },
          "execution_count": 37
        }
      ]
    },
    {
      "cell_type": "code",
      "metadata": {
        "colab": {
          "base_uri": "https://localhost:8080/"
        },
        "id": "KBng0Z_VjUO6",
        "outputId": "492851e6-29a7-401d-9636-097ee93f6a33"
      },
      "source": [
        "expected.shape"
      ],
      "execution_count": 38,
      "outputs": [
        {
          "output_type": "execute_result",
          "data": {
            "text/plain": [
              "(738,)"
            ]
          },
          "metadata": {
            "tags": []
          },
          "execution_count": 38
        }
      ]
    },
    {
      "cell_type": "code",
      "metadata": {
        "colab": {
          "base_uri": "https://localhost:8080/",
          "height": 215
        },
        "id": "o5KoLbihjVXx",
        "outputId": "2d918a87-2afc-4691-8d8e-d142ac9fa3eb"
      },
      "source": [
        "#Implement different types of normalization\n",
        "\n",
        "data.head()"
      ],
      "execution_count": 39,
      "outputs": [
        {
          "output_type": "execute_result",
          "data": {
            "text/html": [
              "<div>\n",
              "<style scoped>\n",
              "    .dataframe tbody tr th:only-of-type {\n",
              "        vertical-align: middle;\n",
              "    }\n",
              "\n",
              "    .dataframe tbody tr th {\n",
              "        vertical-align: top;\n",
              "    }\n",
              "\n",
              "    .dataframe thead th {\n",
              "        text-align: right;\n",
              "    }\n",
              "</style>\n",
              "<table border=\"1\" class=\"dataframe\">\n",
              "  <thead>\n",
              "    <tr style=\"text-align: right;\">\n",
              "      <th></th>\n",
              "      <th>school</th>\n",
              "      <th>sex</th>\n",
              "      <th>age</th>\n",
              "      <th>address</th>\n",
              "      <th>famsize</th>\n",
              "      <th>Pstatus</th>\n",
              "      <th>Medu</th>\n",
              "      <th>Fedu</th>\n",
              "      <th>Mjob</th>\n",
              "      <th>Fjob</th>\n",
              "      <th>reason</th>\n",
              "      <th>guardian</th>\n",
              "      <th>traveltime</th>\n",
              "      <th>studytime</th>\n",
              "      <th>failures</th>\n",
              "      <th>schoolsup</th>\n",
              "      <th>famsup</th>\n",
              "      <th>paid</th>\n",
              "      <th>activities</th>\n",
              "      <th>nursery</th>\n",
              "      <th>higher</th>\n",
              "      <th>internet</th>\n",
              "      <th>romantic</th>\n",
              "      <th>famrel</th>\n",
              "      <th>freetime</th>\n",
              "      <th>goout</th>\n",
              "      <th>Dalc</th>\n",
              "      <th>Walc</th>\n",
              "      <th>health</th>\n",
              "      <th>absences</th>\n",
              "      <th>G1</th>\n",
              "      <th>G2</th>\n",
              "      <th>G3</th>\n",
              "    </tr>\n",
              "  </thead>\n",
              "  <tbody>\n",
              "    <tr>\n",
              "      <th>0</th>\n",
              "      <td>GP</td>\n",
              "      <td>F</td>\n",
              "      <td>18</td>\n",
              "      <td>U</td>\n",
              "      <td>GT3</td>\n",
              "      <td>A</td>\n",
              "      <td>4</td>\n",
              "      <td>4</td>\n",
              "      <td>at_home</td>\n",
              "      <td>teacher</td>\n",
              "      <td>course</td>\n",
              "      <td>mother</td>\n",
              "      <td>2</td>\n",
              "      <td>2</td>\n",
              "      <td>0</td>\n",
              "      <td>yes</td>\n",
              "      <td>no</td>\n",
              "      <td>no</td>\n",
              "      <td>no</td>\n",
              "      <td>yes</td>\n",
              "      <td>yes</td>\n",
              "      <td>no</td>\n",
              "      <td>no</td>\n",
              "      <td>4</td>\n",
              "      <td>3</td>\n",
              "      <td>4</td>\n",
              "      <td>1</td>\n",
              "      <td>1</td>\n",
              "      <td>3</td>\n",
              "      <td>6</td>\n",
              "      <td>5</td>\n",
              "      <td>6</td>\n",
              "      <td>6</td>\n",
              "    </tr>\n",
              "    <tr>\n",
              "      <th>1</th>\n",
              "      <td>GP</td>\n",
              "      <td>F</td>\n",
              "      <td>17</td>\n",
              "      <td>U</td>\n",
              "      <td>GT3</td>\n",
              "      <td>T</td>\n",
              "      <td>1</td>\n",
              "      <td>1</td>\n",
              "      <td>at_home</td>\n",
              "      <td>other</td>\n",
              "      <td>course</td>\n",
              "      <td>father</td>\n",
              "      <td>1</td>\n",
              "      <td>2</td>\n",
              "      <td>0</td>\n",
              "      <td>no</td>\n",
              "      <td>yes</td>\n",
              "      <td>no</td>\n",
              "      <td>no</td>\n",
              "      <td>no</td>\n",
              "      <td>yes</td>\n",
              "      <td>yes</td>\n",
              "      <td>no</td>\n",
              "      <td>5</td>\n",
              "      <td>3</td>\n",
              "      <td>3</td>\n",
              "      <td>1</td>\n",
              "      <td>1</td>\n",
              "      <td>3</td>\n",
              "      <td>4</td>\n",
              "      <td>5</td>\n",
              "      <td>5</td>\n",
              "      <td>6</td>\n",
              "    </tr>\n",
              "    <tr>\n",
              "      <th>2</th>\n",
              "      <td>GP</td>\n",
              "      <td>F</td>\n",
              "      <td>15</td>\n",
              "      <td>U</td>\n",
              "      <td>LE3</td>\n",
              "      <td>T</td>\n",
              "      <td>1</td>\n",
              "      <td>1</td>\n",
              "      <td>at_home</td>\n",
              "      <td>other</td>\n",
              "      <td>other</td>\n",
              "      <td>mother</td>\n",
              "      <td>1</td>\n",
              "      <td>2</td>\n",
              "      <td>3</td>\n",
              "      <td>yes</td>\n",
              "      <td>no</td>\n",
              "      <td>yes</td>\n",
              "      <td>no</td>\n",
              "      <td>yes</td>\n",
              "      <td>yes</td>\n",
              "      <td>yes</td>\n",
              "      <td>no</td>\n",
              "      <td>4</td>\n",
              "      <td>3</td>\n",
              "      <td>2</td>\n",
              "      <td>2</td>\n",
              "      <td>3</td>\n",
              "      <td>3</td>\n",
              "      <td>10</td>\n",
              "      <td>7</td>\n",
              "      <td>8</td>\n",
              "      <td>10</td>\n",
              "    </tr>\n",
              "    <tr>\n",
              "      <th>3</th>\n",
              "      <td>GP</td>\n",
              "      <td>F</td>\n",
              "      <td>15</td>\n",
              "      <td>U</td>\n",
              "      <td>GT3</td>\n",
              "      <td>T</td>\n",
              "      <td>4</td>\n",
              "      <td>2</td>\n",
              "      <td>health</td>\n",
              "      <td>services</td>\n",
              "      <td>home</td>\n",
              "      <td>mother</td>\n",
              "      <td>1</td>\n",
              "      <td>3</td>\n",
              "      <td>0</td>\n",
              "      <td>no</td>\n",
              "      <td>yes</td>\n",
              "      <td>yes</td>\n",
              "      <td>yes</td>\n",
              "      <td>yes</td>\n",
              "      <td>yes</td>\n",
              "      <td>yes</td>\n",
              "      <td>yes</td>\n",
              "      <td>3</td>\n",
              "      <td>2</td>\n",
              "      <td>2</td>\n",
              "      <td>1</td>\n",
              "      <td>1</td>\n",
              "      <td>5</td>\n",
              "      <td>2</td>\n",
              "      <td>15</td>\n",
              "      <td>14</td>\n",
              "      <td>15</td>\n",
              "    </tr>\n",
              "    <tr>\n",
              "      <th>4</th>\n",
              "      <td>GP</td>\n",
              "      <td>F</td>\n",
              "      <td>16</td>\n",
              "      <td>U</td>\n",
              "      <td>GT3</td>\n",
              "      <td>T</td>\n",
              "      <td>3</td>\n",
              "      <td>3</td>\n",
              "      <td>other</td>\n",
              "      <td>other</td>\n",
              "      <td>home</td>\n",
              "      <td>father</td>\n",
              "      <td>1</td>\n",
              "      <td>2</td>\n",
              "      <td>0</td>\n",
              "      <td>no</td>\n",
              "      <td>yes</td>\n",
              "      <td>yes</td>\n",
              "      <td>no</td>\n",
              "      <td>yes</td>\n",
              "      <td>yes</td>\n",
              "      <td>no</td>\n",
              "      <td>no</td>\n",
              "      <td>4</td>\n",
              "      <td>3</td>\n",
              "      <td>2</td>\n",
              "      <td>1</td>\n",
              "      <td>2</td>\n",
              "      <td>5</td>\n",
              "      <td>4</td>\n",
              "      <td>6</td>\n",
              "      <td>10</td>\n",
              "      <td>10</td>\n",
              "    </tr>\n",
              "  </tbody>\n",
              "</table>\n",
              "</div>"
            ],
            "text/plain": [
              "  school sex  age address famsize Pstatus  ...  Walc  health absences  G1  G2  G3\n",
              "0     GP   F   18       U     GT3       A  ...     1       3        6   5   6   6\n",
              "1     GP   F   17       U     GT3       T  ...     1       3        4   5   5   6\n",
              "2     GP   F   15       U     LE3       T  ...     3       3       10   7   8  10\n",
              "3     GP   F   15       U     GT3       T  ...     1       5        2  15  14  15\n",
              "4     GP   F   16       U     GT3       T  ...     2       5        4   6  10  10\n",
              "\n",
              "[5 rows x 33 columns]"
            ]
          },
          "metadata": {
            "tags": []
          },
          "execution_count": 39
        }
      ]
    },
    {
      "cell_type": "code",
      "metadata": {
        "colab": {
          "base_uri": "https://localhost:8080/"
        },
        "id": "IX4B4bGwjfCS",
        "outputId": "411aaca0-e655-4213-d978-936d219db6a2"
      },
      "source": [
        "\n",
        "age=np.array(data['age'])\n",
        "print('MAX AGE',max(age))\n",
        "print('MIN AGE',min(age))\n",
        "age=age.reshape(395,1)"
      ],
      "execution_count": 40,
      "outputs": [
        {
          "output_type": "stream",
          "text": [
            "MAX AGE 22\n",
            "MIN AGE 15\n"
          ],
          "name": "stdout"
        }
      ]
    },
    {
      "cell_type": "code",
      "metadata": {
        "colab": {
          "base_uri": "https://localhost:8080/"
        },
        "id": "_TlZDfjpjjHb",
        "outputId": "55176a5d-5568-4a1f-fbe3-2ed5ea405192"
      },
      "source": [
        "\n",
        "from scipy import stats\n",
        "zscore = np.array(stats.zscore(age))\n",
        "zscore = zscore[0:394]\n",
        "zscore = zscore.reshape(2,197)\n",
        "zscore"
      ],
      "execution_count": 41,
      "outputs": [
        {
          "output_type": "execute_result",
          "data": {
            "text/plain": [
              "array([[ 1.02304645,  0.23837976, -1.33095364, -1.33095364, -0.54628694,\n",
              "        -0.54628694, -0.54628694,  0.23837976, -1.33095364, -1.33095364,\n",
              "        -1.33095364, -1.33095364, -1.33095364, -1.33095364, -1.33095364,\n",
              "        -0.54628694, -0.54628694, -0.54628694,  0.23837976, -0.54628694,\n",
              "        -1.33095364, -1.33095364, -0.54628694, -0.54628694, -1.33095364,\n",
              "        -0.54628694, -1.33095364, -1.33095364, -0.54628694, -0.54628694,\n",
              "        -1.33095364, -1.33095364, -1.33095364, -1.33095364, -0.54628694,\n",
              "        -1.33095364, -1.33095364, -0.54628694, -1.33095364, -1.33095364,\n",
              "        -0.54628694, -1.33095364, -1.33095364, -1.33095364, -0.54628694,\n",
              "        -1.33095364, -0.54628694, -0.54628694, -1.33095364, -1.33095364,\n",
              "        -0.54628694, -1.33095364, -1.33095364, -1.33095364, -1.33095364,\n",
              "        -0.54628694, -1.33095364, -1.33095364, -1.33095364, -0.54628694,\n",
              "        -0.54628694, -0.54628694, -0.54628694, -0.54628694, -1.33095364,\n",
              "        -0.54628694, -1.33095364, -0.54628694, -1.33095364, -1.33095364,\n",
              "        -0.54628694, -1.33095364, -1.33095364, -0.54628694, -0.54628694,\n",
              "        -1.33095364, -1.33095364, -0.54628694,  0.23837976, -0.54628694,\n",
              "        -1.33095364, -1.33095364, -1.33095364, -1.33095364, -1.33095364,\n",
              "        -1.33095364, -0.54628694, -1.33095364, -0.54628694, -0.54628694,\n",
              "        -0.54628694, -1.33095364, -0.54628694, -0.54628694, -1.33095364,\n",
              "        -1.33095364, -0.54628694, -0.54628694, -0.54628694, -0.54628694,\n",
              "        -0.54628694, -0.54628694, -1.33095364, -1.33095364, -1.33095364,\n",
              "        -1.33095364, -1.33095364, -0.54628694, -1.33095364, -0.54628694,\n",
              "        -1.33095364, -0.54628694, -0.54628694, -1.33095364, -1.33095364,\n",
              "        -0.54628694, -1.33095364, -0.54628694,  0.23837976, -1.33095364,\n",
              "        -1.33095364, -1.33095364, -0.54628694, -0.54628694, -0.54628694,\n",
              "        -1.33095364, -1.33095364,  1.80771315,  1.02304645, -0.54628694,\n",
              "        -1.33095364, -1.33095364,  0.23837976, -0.54628694, -1.33095364,\n",
              "        -1.33095364,  0.23837976, -0.54628694, -0.54628694, -1.33095364,\n",
              "        -1.33095364, -0.54628694, -1.33095364, -0.54628694,  0.23837976,\n",
              "        -1.33095364, -1.33095364, -1.33095364, -0.54628694, -1.33095364,\n",
              "         1.02304645, -0.54628694, -1.33095364,  1.80771315,  0.23837976,\n",
              "        -1.33095364,  0.23837976,  1.02304645, -0.54628694, -0.54628694,\n",
              "         0.23837976, -1.33095364, -0.54628694,  0.23837976,  0.23837976,\n",
              "        -0.54628694, -0.54628694, -0.54628694, -0.54628694, -0.54628694,\n",
              "        -0.54628694, -0.54628694,  0.23837976, -0.54628694, -0.54628694,\n",
              "         0.23837976, -0.54628694,  0.23837976, -0.54628694,  0.23837976,\n",
              "        -0.54628694, -0.54628694,  0.23837976,  0.23837976, -0.54628694,\n",
              "         0.23837976, -0.54628694, -0.54628694,  0.23837976,  0.23837976,\n",
              "        -0.54628694,  0.23837976,  0.23837976, -0.54628694, -0.54628694,\n",
              "         0.23837976,  0.23837976],\n",
              "       [-0.54628694,  0.23837976, -0.54628694, -0.54628694, -0.54628694,\n",
              "         0.23837976,  0.23837976, -0.54628694,  0.23837976, -0.54628694,\n",
              "        -0.54628694, -0.54628694,  0.23837976,  1.80771315,  0.23837976,\n",
              "        -0.54628694,  1.02304645,  0.23837976,  0.23837976,  0.23837976,\n",
              "         1.02304645,  0.23837976,  0.23837976,  0.23837976,  0.23837976,\n",
              "        -0.54628694,  1.02304645, -0.54628694,  1.02304645,  0.23837976,\n",
              "         0.23837976,  1.02304645,  0.23837976,  0.23837976,  0.23837976,\n",
              "         0.23837976, -0.54628694, -0.54628694, -0.54628694,  0.23837976,\n",
              "        -0.54628694,  0.23837976,  1.02304645,  0.23837976,  0.23837976,\n",
              "        -0.54628694, -0.54628694,  1.02304645, -0.54628694,  0.23837976,\n",
              "         4.16171325,  1.02304645, -0.54628694,  1.02304645, -0.54628694,\n",
              "         1.02304645, -0.54628694,  0.23837976,  0.23837976,  0.23837976,\n",
              "         1.80771315,  1.02304645,  0.23837976,  1.02304645,  1.02304645,\n",
              "         1.02304645,  0.23837976,  1.02304645,  1.02304645,  0.23837976,\n",
              "         1.02304645,  1.02304645,  1.02304645,  1.80771315,  1.02304645,\n",
              "         1.02304645,  0.23837976,  0.23837976,  0.23837976,  1.02304645,\n",
              "         1.02304645,  1.02304645,  1.02304645,  0.23837976,  0.23837976,\n",
              "         1.02304645,  1.02304645,  0.23837976,  0.23837976,  1.02304645,\n",
              "         0.23837976,  1.02304645,  1.02304645,  1.02304645,  0.23837976,\n",
              "         1.02304645,  0.23837976,  1.02304645,  0.23837976,  1.80771315,\n",
              "         1.02304645,  1.02304645,  1.02304645,  1.02304645,  0.23837976,\n",
              "         0.23837976,  0.23837976,  1.80771315,  1.02304645,  2.59237985,\n",
              "         1.80771315,  1.80771315,  1.80771315,  1.80771315,  1.80771315,\n",
              "         1.80771315,  1.80771315,  1.80771315,  1.80771315,  1.02304645,\n",
              "         1.02304645,  0.23837976,  1.02304645,  0.23837976,  0.23837976,\n",
              "         0.23837976,  0.23837976,  0.23837976,  1.02304645,  0.23837976,\n",
              "         0.23837976,  0.23837976,  0.23837976,  1.02304645,  0.23837976,\n",
              "         1.02304645,  1.02304645,  1.02304645,  0.23837976,  1.80771315,\n",
              "         0.23837976,  1.02304645,  0.23837976,  1.80771315,  1.02304645,\n",
              "         1.02304645,  0.23837976,  1.02304645,  1.02304645,  1.02304645,\n",
              "         1.02304645,  0.23837976,  1.02304645,  1.80771315,  0.23837976,\n",
              "         1.02304645,  1.80771315,  0.23837976,  1.02304645,  0.23837976,\n",
              "         0.23837976,  1.02304645,  1.02304645,  1.02304645,  1.02304645,\n",
              "         1.02304645,  0.23837976,  0.23837976,  1.02304645,  1.02304645,\n",
              "         0.23837976,  1.02304645,  1.02304645,  1.80771315,  1.02304645,\n",
              "         0.23837976,  0.23837976,  1.02304645,  1.02304645,  2.59237985,\n",
              "         1.02304645,  1.02304645,  0.23837976,  1.02304645,  1.02304645,\n",
              "         0.23837976,  1.80771315,  1.02304645,  1.02304645,  1.02304645,\n",
              "         1.80771315,  1.02304645,  1.02304645,  2.59237985,  0.23837976,\n",
              "         3.37704655,  1.02304645]])"
            ]
          },
          "metadata": {
            "tags": []
          },
          "execution_count": 41
        }
      ]
    }
  ]
}