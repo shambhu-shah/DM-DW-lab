{
  "nbformat": 4,
  "nbformat_minor": 0,
  "metadata": {
    "colab": {
      "name": "18cse195.assg1",
      "provenance": [],
      "authorship_tag": "ABX9TyMccIJDAi3mT8goBVaJEOqc",
      "include_colab_link": true
    },
    "kernelspec": {
      "name": "python3",
      "display_name": "Python 3"
    }
  },
  "cells": [
    {
      "cell_type": "markdown",
      "metadata": {
        "id": "view-in-github",
        "colab_type": "text"
      },
      "source": [
        "<a href=\"https://colab.research.google.com/github/shambhu-shah/DM-DW-lab/blob/main/18cse195_assg1.ipynb\" target=\"_parent\"><img src=\"https://colab.research.google.com/assets/colab-badge.svg\" alt=\"Open In Colab\"/></a>"
      ]
    },
    {
      "cell_type": "code",
      "metadata": {
        "id": "myB4_x3f8R89",
        "outputId": "8a29158e-2ea1-444a-e7de-5513ca3e9291",
        "colab": {
          "base_uri": "https://localhost:8080/"
        }
      },
      "source": [
        "#MEAN\n",
        "n_num = [1, 2, 3, 4, 5] \n",
        "n = len(n_num) \n",
        "  \n",
        "total_sum = sum(n_num) \n",
        "mean = total_sum / n \n",
        "  \n",
        "print(\"Mean / Average is: \" + str(mean))\n"
      ],
      "execution_count": 4,
      "outputs": [
        {
          "output_type": "stream",
          "text": [
            "Mean / Average is: 3.0\n"
          ],
          "name": "stdout"
        }
      ]
    }
  ]
}